{
 "cells": [
  {
   "cell_type": "code",
   "execution_count": 3,
   "metadata": {},
   "outputs": [],
   "source": [
    "import cv2\n",
    "import numpy as np\n",
    "import matplotlib.pyplot as plt\n",
    "import numpy.linalg as la\n",
    "import scipy.signal as signal"
   ]
  },
  {
   "cell_type": "code",
   "execution_count": 6,
   "metadata": {},
   "outputs": [
    {
     "name": "stdout",
     "output_type": "stream",
     "text": [
      "(1110, 1390)\n"
     ]
    }
   ],
   "source": [
    "file1 = 'moebius1.png'\n",
    "file2 = 'moebius2.png'\n",
    "img1 = cv2.imread(file1, cv2.IMREAD_GRAYSCALE)\n",
    "img2 = cv2.imread(file2, cv2.IMREAD_GRAYSCALE)\n",
    "h, w = img2.shape"
   ]
  },
  {
   "cell_type": "code",
   "execution_count": null,
   "metadata": {},
   "outputs": [],
   "source": [
    "def ssd_score(im1, im2):\n",
    "    return np.sum((im1 - im2)**2)"
   ]
  },
  {
   "cell_type": "code",
   "execution_count": null,
   "metadata": {},
   "outputs": [],
   "source": [
    "def sad_score(im1, im2):\n",
    "    return np.sum(abs(im1 - im2))"
   ]
  },
  {
   "cell_type": "code",
   "execution_count": null,
   "metadata": {},
   "outputs": [],
   "source": [
    "def ncc_score(im1, im2):\n",
    "    return np.sum(((im1-np.mean(im1))/np.std(im1))*((im2-np.mean(im2))/ np.std(im2)))"
   ]
  },
  {
   "cell_type": "code",
   "execution_count": 5,
   "metadata": {},
   "outputs": [],
   "source": [
    "window_size = 5\n",
    "range = (-50, 1)\n",
    "dis_map = np.zeros((h,w))\n",
    "\n",
    "f = 0\n",
    "B = 0\n",
    "\n",
    "for i in range(window_size, h - window_size - 1):\n",
    "    for j in range(window_size, w - window_size - 2):\n",
    "        min_cost = np.inf\n",
    "        index = -1\n",
    "        for l in range(j + 1, w - window_size - 1):\n",
    "            im1 = img1[i - 5 : i + 5, j - 5 : j + 5]\n",
    "            im2 = img2[i - 5 : i + 5, l - 5 : l + 5]\n",
    "            val = ssd_score(im1, im2)\n",
    "            if val < min_cost:\n",
    "                index = l\n",
    "                min_cost = val\n",
    "        dis_map[i][j] = f * B / (im1[i][j] - im2[i][index])\n",
    "\n",
    "\n"
   ]
  },
  {
   "cell_type": "code",
   "execution_count": null,
   "metadata": {},
   "outputs": [],
   "source": [
    "plt.figure()\n",
    "plt.imshow(np.abs(dis_map)/50, cmap='gray')\n",
    "plt.show()"
   ]
  }
 ],
 "metadata": {
  "interpreter": {
   "hash": "748a24a7e12f043e255937764f69584c10b2b974a22ed84d52db2de81e21ea53"
  },
  "kernelspec": {
   "display_name": "Python 3.9.12 ('base')",
   "language": "python",
   "name": "python3"
  },
  "language_info": {
   "codemirror_mode": {
    "name": "ipython",
    "version": 3
   },
   "file_extension": ".py",
   "mimetype": "text/x-python",
   "name": "python",
   "nbconvert_exporter": "python",
   "pygments_lexer": "ipython3",
   "version": "3.9.12"
  },
  "orig_nbformat": 4
 },
 "nbformat": 4,
 "nbformat_minor": 2
}
